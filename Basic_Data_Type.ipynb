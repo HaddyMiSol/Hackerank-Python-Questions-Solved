{
 "cells": [
  {
   "cell_type": "markdown",
   "id": "d9a499c3",
   "metadata": {},
   "source": [
    "## Basic Data Types (6 Questions Solved)"
   ]
  },
  {
   "cell_type": "markdown",
   "id": "30b75b0f",
   "metadata": {},
   "source": [
    "##### ListComprehension"
   ]
  },
  {
   "cell_type": "code",
   "execution_count": null,
   "id": "ffc65657",
   "metadata": {},
   "outputs": [],
   "source": [
    "if __name__ == '__main__':\n",
    "    x = int(input())\n",
    "    y = int(input())\n",
    "    z = int(input())\n",
    "    n = int(input())\n",
    "    print([[i,j,k] for i in range(x+1) for j in range(y+1) for k in range(z+1) if ((i+j+k) !=n)])"
   ]
  },
  {
   "cell_type": "markdown",
   "id": "3940698e",
   "metadata": {},
   "source": [
    "##### Find the Runner-up Score!"
   ]
  },
  {
   "cell_type": "code",
   "execution_count": null,
   "id": "b01ab84c",
   "metadata": {},
   "outputs": [],
   "source": [
    "if __name__ == '__main__':\n",
    "    n = int(input())\n",
    "    arr = map(int, input().split())\n",
    "print(sorted(list(set(arr)))[-2])"
   ]
  },
  {
   "cell_type": "markdown",
   "id": "c775f503",
   "metadata": {},
   "source": [
    "##### Lists"
   ]
  },
  {
   "cell_type": "code",
   "execution_count": null,
   "id": "42f353f8",
   "metadata": {},
   "outputs": [],
   "source": [
    "if __name__ == '__main__':\n",
    "    N = int(input())\n",
    "    l = []\n",
    "    for i in range(N):\n",
    "        c=input().split()\n",
    "        cmd=c[0]\n",
    "        \n",
    "        if cmd == \"insert\":\n",
    "            l.insert(int(c[1]), int(c[2]))\n",
    "        if cmd == \"print\":\n",
    "            print(l)\n",
    "        if cmd == \"remove\":\n",
    "            l.remove(int(c[1]))\n",
    "        if cmd == \"append\":\n",
    "            l.append(int(c[1]))\n",
    "        if cmd =='sort':\n",
    "            l.sort()\n",
    "        if cmd == \"pop\":\n",
    "            l.pop()\n",
    "        if cmd == \"reverse\":\n",
    "            l.reverse()"
   ]
  },
  {
   "cell_type": "markdown",
   "id": "139ea90e",
   "metadata": {},
   "source": [
    "##### Tuples"
   ]
  },
  {
   "cell_type": "code",
   "execution_count": null,
   "id": "f9e30cae",
   "metadata": {},
   "outputs": [],
   "source": [
    "if __name__ == '__main__':\n",
    "    n = int(input())\n",
    "    integer_list = map(int, input().split())\n",
    "\n",
    "    t = tuple(integer_list)\n",
    "    print(hash(t))"
   ]
  },
  {
   "cell_type": "markdown",
   "id": "9cebad46",
   "metadata": {},
   "source": [
    "##### Nested List"
   ]
  },
  {
   "cell_type": "code",
   "execution_count": null,
   "id": "1ab48b5f",
   "metadata": {},
   "outputs": [],
   "source": [
    "if __name__ == '__main__':\n",
    "    info =[]\n",
    "    mark =[]\n",
    "    for i in range(int(input())):\n",
    "        name = input()\n",
    "        score = float(input())\n",
    "        info.append([name,score])\n",
    "        mark.append(score)\n",
    "    mark = sorted(set(mark))\n",
    "    k=mark[1]\n",
    "    \n",
    "    namee=[]\n",
    "    for val in info:\n",
    "        if k ==val[1]:\n",
    "            namee.append(val[0])\n",
    "        namee.sort()\n",
    "    for n in namee:\n",
    "        print(n)"
   ]
  },
  {
   "cell_type": "markdown",
   "id": "103b1757",
   "metadata": {},
   "source": [
    "##### Find the Percentage"
   ]
  },
  {
   "cell_type": "code",
   "execution_count": null,
   "id": "36423e86",
   "metadata": {},
   "outputs": [],
   "source": [
    "if __name__ == '__main__':\n",
    "    n = int(input())\n",
    "    student_marks = {}\n",
    "    info = []\n",
    "    mark = []\n",
    "    for i in range(n):\n",
    "        name, *line = input().split()\n",
    "        scores = list(map(float, line))\n",
    "        student_marks[name] = scores\n",
    "    query_name = input()\n",
    "    if query_name in student_marks:\n",
    "        percentage = ((float(student_marks[query_name][0]) + float(student_marks[query_name][1]) + float(student_marks[query_name][2]))/3)\n",
    "        print('%.2f'% percentage)"
   ]
  }
 ],
 "metadata": {
  "kernelspec": {
   "display_name": "Python 3 (ipykernel)",
   "language": "python",
   "name": "python3"
  },
  "language_info": {
   "codemirror_mode": {
    "name": "ipython",
    "version": 3
   },
   "file_extension": ".py",
   "mimetype": "text/x-python",
   "name": "python",
   "nbconvert_exporter": "python",
   "pygments_lexer": "ipython3",
   "version": "3.9.7"
  }
 },
 "nbformat": 4,
 "nbformat_minor": 5
}
