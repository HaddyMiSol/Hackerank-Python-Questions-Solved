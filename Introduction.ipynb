{
 "cells": [
  {
   "cell_type": "markdown",
   "id": "a6c3aaf0",
   "metadata": {},
   "source": [
    "## Introduction (7 Questions Solved)"
   ]
  },
  {
   "cell_type": "markdown",
   "id": "71ca6823",
   "metadata": {},
   "source": [
    "##### Say \"Hello, World!\" With Python"
   ]
  },
  {
   "cell_type": "code",
   "execution_count": null,
   "id": "9f9d7c49",
   "metadata": {},
   "outputs": [],
   "source": [
    "print(\"Hello, World!\")"
   ]
  },
  {
   "cell_type": "markdown",
   "id": "2e5d51b1",
   "metadata": {},
   "source": [
    "##### Arithmetic Operators"
   ]
  },
  {
   "cell_type": "code",
   "execution_count": null,
   "id": "d75cc286",
   "metadata": {},
   "outputs": [],
   "source": [
    "if __name__ == '__main__':\n",
    "    a = int(input())\n",
    "    b = int(input())\n",
    "    print(a+b)\n",
    "    print(a-b)\n",
    "    print(a*b)"
   ]
  },
  {
   "cell_type": "markdown",
   "id": "c82220ed",
   "metadata": {},
   "source": [
    "##### Python Division"
   ]
  },
  {
   "cell_type": "code",
   "execution_count": null,
   "id": "5e13b4cf",
   "metadata": {},
   "outputs": [],
   "source": [
    "if __name__ == '__main__':\n",
    "    a = int(input())\n",
    "    b = int(input())\n",
    "    print(a//b)\n",
    "    print(a/b)"
   ]
  },
  {
   "cell_type": "markdown",
   "id": "1442ff03",
   "metadata": {},
   "source": [
    "##### Loops"
   ]
  },
  {
   "cell_type": "code",
   "execution_count": null,
   "id": "fd58e112",
   "metadata": {},
   "outputs": [],
   "source": [
    "if __name__ == '__main__':\n",
    "    n = int(input())\n",
    "    i = 0\n",
    "    while i < n:\n",
    "        print(i**2)\n",
    "        i +=1"
   ]
  },
  {
   "cell_type": "markdown",
   "id": "e08e5279",
   "metadata": {},
   "source": [
    "##### Python: If -Else"
   ]
  },
  {
   "cell_type": "code",
   "execution_count": null,
   "id": "7eb5fdcf",
   "metadata": {},
   "outputs": [],
   "source": [
    "#!/bin/python3\n",
    "\n",
    "import math\n",
    "import os\n",
    "import random\n",
    "import re\n",
    "import sys\n",
    "\n",
    "\n",
    "n= int(input().strip())\n",
    "if n%2 !=0:\n",
    "    print('Weird')\n",
    "else:\n",
    "    if n >=2 and n<=5:\n",
    "        print('Not Weird')\n",
    "    elif n>=6 and n<=20:\n",
    "        print('Weird')\n",
    "    elif n>20:\n",
    "        print('Not Weird')"
   ]
  },
  {
   "cell_type": "markdown",
   "id": "66b1bd4f",
   "metadata": {},
   "source": [
    "##### Write a Function"
   ]
  },
  {
   "cell_type": "code",
   "execution_count": null,
   "id": "febb77b4",
   "metadata": {},
   "outputs": [],
   "source": [
    "def is_leap(year):\n",
    "    leap = False\n",
    "    \n",
    "    # Write your logic here\n",
    "    if (year % 400 == 0):\n",
    "        return True\n",
    "    if (year % 100 == 0):\n",
    "        return leap\n",
    "    if (year % 4 == 0):\n",
    "        return True\n",
    "    else:\n",
    "        return False  \n",
    "    \n",
    "    return leap\n",
    "year = int(input())\n",
    "print(is_leap(year))"
   ]
  },
  {
   "cell_type": "markdown",
   "id": "69268712",
   "metadata": {},
   "source": [
    "##### Print function"
   ]
  },
  {
   "cell_type": "code",
   "execution_count": null,
   "id": "1dd7f65c",
   "metadata": {},
   "outputs": [],
   "source": [
    "if __name__ == '__main__':\n",
    "    n = int(input())\n",
    "    for i in range(1, n+1):\n",
    "        print (i, end= \"\") #this print on a single line (123) instead of vertically\n",
    "\n",
    "#OR\n",
    "\n",
    "if __name__ == '__main__':\n",
    "    n = int(input())\n",
    "    i =0\n",
    "    while i < n:\n",
    "        i+=1\n",
    "        print (i, end=\"\")"
   ]
  }
 ],
 "metadata": {
  "kernelspec": {
   "display_name": "Python 3 (ipykernel)",
   "language": "python",
   "name": "python3"
  },
  "language_info": {
   "codemirror_mode": {
    "name": "ipython",
    "version": 3
   },
   "file_extension": ".py",
   "mimetype": "text/x-python",
   "name": "python",
   "nbconvert_exporter": "python",
   "pygments_lexer": "ipython3",
   "version": "3.9.7"
  }
 },
 "nbformat": 4,
 "nbformat_minor": 5
}
